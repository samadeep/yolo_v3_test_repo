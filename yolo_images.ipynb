{
 "cells": [
  {
   "cell_type": "code",
   "execution_count": 1,
   "metadata": {},
   "outputs": [],
   "source": [
    "import cv2\n",
    "import numpy as np\n",
    "\n",
    "# Load YOLO\n",
    "net = cv2.dnn.readNet(\"yolov3.weights\", \"yolov3.cfg\")\n",
    "classes = []\n",
    "with open(\"coco.names\", \"r\") as f:\n",
    "    classes = [line.strip() for line in f.readlines()]"
   ]
  },
  {
   "cell_type": "code",
   "execution_count": 2,
   "metadata": {},
   "outputs": [],
   "source": [
    "# Get output layer names\n",
    "layer_names = net.getLayerNames()\n",
    "output_layers = [layer_names[i-1] for i in net.getUnconnectedOutLayers()]"
   ]
  },
  {
   "cell_type": "code",
   "execution_count": 3,
   "metadata": {},
   "outputs": [],
   "source": [
    "# Load image\n",
    "image = cv2.imread(\"image.jpeg\")"
   ]
  },
  {
   "cell_type": "code",
   "execution_count": 4,
   "metadata": {},
   "outputs": [],
   "source": [
    "# Resize and normalize image\n",
    "height, width, channels = image.shape\n",
    "blob = cv2.dnn.blobFromImage(image, 0.00392, (416, 416), (0, 0, 0), True, crop=False)"
   ]
  },
  {
   "cell_type": "code",
   "execution_count": 5,
   "metadata": {},
   "outputs": [
    {
     "data": {
      "text/plain": [
       "array([[[[0.92120004, 0.92120004, 0.92120004, ..., 0.30184   ,\n",
       "          0.32144   , 0.36064   ],\n",
       "         [0.91728   , 0.91728   , 0.91728   , ..., 0.38808   ,\n",
       "          0.40376002, 0.41944   ],\n",
       "         [0.91728   , 0.91728   , 0.91728   , ..., 0.47432   ,\n",
       "          0.43904   , 0.43904   ],\n",
       "         ...,\n",
       "         [0.8428    , 0.85064   , 0.7056    , ..., 0.79576004,\n",
       "          0.8232    , 0.882     ],\n",
       "         [0.77616   , 0.78400004, 0.83888   , ..., 0.85456   ,\n",
       "          0.8428    , 0.87416   ],\n",
       "         [0.8232    , 0.81536   , 0.90944004, ..., 0.90944004,\n",
       "          0.87024003, 0.83496   ]],\n",
       "\n",
       "        [[0.99176   , 0.99176   , 0.99176   , ..., 0.36064   ,\n",
       "          0.38416   , 0.42728   ],\n",
       "         [0.98784   , 0.98784   , 0.98784   , ..., 0.44688   ,\n",
       "          0.45864   , 0.48216   ],\n",
       "         [0.98784   , 0.98784   , 0.98784   , ..., 0.5292    ,\n",
       "          0.49392   , 0.49392   ],\n",
       "         ...,\n",
       "         [0.8624    , 0.86632   , 0.71736   , ..., 0.79576004,\n",
       "          0.8232    , 0.882     ],\n",
       "         [0.79576004, 0.8036    , 0.85456   , ..., 0.85456   ,\n",
       "          0.8428    , 0.87416   ],\n",
       "         [0.8428    , 0.83496   , 0.91728   , ..., 0.90944004,\n",
       "          0.87024003, 0.83496   ]],\n",
       "\n",
       "        [[0.9996    , 0.9996    , 0.9996    , ..., 0.4312    ,\n",
       "          0.45472002, 0.50568   ],\n",
       "         [0.99568003, 0.99568003, 0.99568003, ..., 0.50176   ,\n",
       "          0.51352   , 0.54488003],\n",
       "         [0.99568003, 0.99568003, 0.99568003, ..., 0.57232   ,\n",
       "          0.53704   , 0.54488003],\n",
       "         ...,\n",
       "         [0.83496   , 0.83888   , 0.68992   , ..., 0.7644    ,\n",
       "          0.79184   , 0.85064   ],\n",
       "         [0.76832   , 0.77616   , 0.8232    , ..., 0.8232    ,\n",
       "          0.80752003, 0.8428    ],\n",
       "         [0.81536   , 0.80752003, 0.88984   , ..., 0.87416   ,\n",
       "          0.83104   , 0.8036    ]]]], dtype=float32)"
      ]
     },
     "execution_count": 5,
     "metadata": {},
     "output_type": "execute_result"
    }
   ],
   "source": [
    "blob"
   ]
  },
  {
   "cell_type": "code",
   "execution_count": 6,
   "metadata": {},
   "outputs": [],
   "source": [
    "# Forward pass through the network\n",
    "net.setInput(blob)\n",
    "outs = net.forward(output_layers)"
   ]
  },
  {
   "cell_type": "code",
   "execution_count": 7,
   "metadata": {},
   "outputs": [],
   "source": [
    "# Process detections\n",
    "class_ids = []\n",
    "confidences = []\n",
    "boxes = []\n",
    "for out in outs:\n",
    "    for detection in out:\n",
    "        scores = detection[5:]\n",
    "        class_id = np.argmax(scores)\n",
    "        confidence = scores[class_id]\n",
    "        if confidence > 0.5:\n",
    "            # Object detected\n",
    "            center_x = int(detection[0] * width)\n",
    "            center_y = int(detection[1] * height)\n",
    "            w = int(detection[2] * width)\n",
    "            h = int(detection[3] * height)\n",
    "\n",
    "            # Rectangle coordinates\n",
    "            x = int(center_x - w / 2)\n",
    "            y = int(center_y - h / 2)\n",
    "\n",
    "            boxes.append([x, y, w, h])\n",
    "            confidences.append(float(confidence))\n",
    "            class_ids.append(class_id)"
   ]
  },
  {
   "cell_type": "code",
   "execution_count": 8,
   "metadata": {},
   "outputs": [],
   "source": [
    "# Apply non-maximum suppression\n",
    "indexes = cv2.dnn.NMSBoxes(boxes, confidences, 0.5, 0.4)"
   ]
  },
  {
   "cell_type": "code",
   "execution_count": 9,
   "metadata": {},
   "outputs": [
    {
     "data": {
      "text/plain": [
       "array([ 7, 21, 23, 11, 25, 10, 13, 27,  9], dtype=int32)"
      ]
     },
     "execution_count": 9,
     "metadata": {},
     "output_type": "execute_result"
    }
   ],
   "source": [
    "indexes"
   ]
  },
  {
   "cell_type": "code",
   "execution_count": 10,
   "metadata": {},
   "outputs": [],
   "source": [
    "# Draw bounding boxes and labels\n",
    "font = cv2.FONT_HERSHEY_SIMPLEX\n",
    "for i in range(len(boxes)):\n",
    "    if i in indexes:\n",
    "        x, y, w, h = boxes[i]\n",
    "        label = classes[class_ids[i]]\n",
    "        confidence = confidences[i]\n",
    "        color = (0, 255, 0)\n",
    "        cv2.rectangle(image, (x, y), (x + w, y + h), color, 2)\n",
    "        cv2.putText(image, f\"{label} {confidence:.2f}\", (x, y - 10), font, 0.5, color, 2)"
   ]
  },
  {
   "cell_type": "code",
   "execution_count": 11,
   "metadata": {},
   "outputs": [
    {
     "ename": "",
     "evalue": "",
     "output_type": "error",
     "traceback": [
      "\u001b[1;31mThe Kernel crashed while executing code in the the current cell or a previous cell. Please review the code in the cell(s) to identify a possible cause of the failure. Click <a href='https://aka.ms/vscodeJupyterKernelCrash'>here</a> for more info. View Jupyter <a href='command:jupyter.viewOutput'>log</a> for further details."
     ]
    }
   ],
   "source": [
    "# Display the resulting image\n",
    "cv2.imshow(\"YOLO Object Detection\", image)\n",
    "cv2.waitKey(0)\n",
    "cv2.destroyAllWindows()\n"
   ]
  },
  {
   "cell_type": "code",
   "execution_count": null,
   "metadata": {},
   "outputs": [],
   "source": []
  }
 ],
 "metadata": {
  "kernelspec": {
   "display_name": "Python 3",
   "language": "python",
   "name": "python3"
  },
  "language_info": {
   "codemirror_mode": {
    "name": "ipython",
    "version": 3
   },
   "file_extension": ".py",
   "mimetype": "text/x-python",
   "name": "python",
   "nbconvert_exporter": "python",
   "pygments_lexer": "ipython3",
   "version": "3.11.1"
  },
  "orig_nbformat": 4
 },
 "nbformat": 4,
 "nbformat_minor": 2
}
